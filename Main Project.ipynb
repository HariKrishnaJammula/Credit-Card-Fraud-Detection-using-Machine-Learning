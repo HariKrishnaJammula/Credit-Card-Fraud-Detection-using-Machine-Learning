{
 "cells": [
  {
   "cell_type": "markdown",
   "metadata": {},
   "source": [
    "# **Credit Crad Fraud Detection**"
   ]
  },
  {
   "cell_type": "markdown",
   "metadata": {},
   "source": [
    "#### Importing Required Libraries"
   ]
  },
  {
   "cell_type": "code",
   "execution_count": 1,
   "metadata": {
    "execution": {
     "iopub.execute_input": "2022-09-06T17:14:08.649806Z",
     "iopub.status.busy": "2022-09-06T17:14:08.647866Z",
     "iopub.status.idle": "2022-09-06T17:14:09.266201Z",
     "shell.execute_reply": "2022-09-06T17:14:09.259618Z",
     "shell.execute_reply.started": "2022-09-06T17:14:08.649714Z"
    }
   },
   "outputs": [],
   "source": [
    "import pandas as pd\n",
    "import numpy as np\n",
    "import matplotlib.pyplot as plt\n",
    "import math\n",
    "import seaborn as sns"
   ]
  },
  {
   "cell_type": "markdown",
   "metadata": {},
   "source": [
    "####  Loading Dataset using .read "
   ]
  },
  {
   "cell_type": "code",
   "execution_count": 2,
   "metadata": {
    "execution": {
     "iopub.execute_input": "2022-09-06T17:14:09.273792Z",
     "iopub.status.busy": "2022-09-06T17:14:09.273424Z",
     "iopub.status.idle": "2022-09-06T17:14:10.396884Z",
     "shell.execute_reply": "2022-09-06T17:14:10.395787Z",
     "shell.execute_reply.started": "2022-09-06T17:14:09.273756Z"
    }
   },
   "outputs": [],
   "source": [
    "df = pd.read_csv(\"card_transdata.csv\")\n"
   ]
  },
  {
   "cell_type": "markdown",
   "metadata": {},
   "source": [
    "## **Missing values and duplicates**"
   ]
  },
  {
   "cell_type": "code",
   "execution_count": 3,
   "metadata": {
    "execution": {
     "iopub.execute_input": "2022-09-06T17:14:10.434201Z",
     "iopub.status.busy": "2022-09-06T17:14:10.433719Z",
     "iopub.status.idle": "2022-09-06T17:14:10.462531Z",
     "shell.execute_reply": "2022-09-06T17:14:10.461589Z",
     "shell.execute_reply.started": "2022-09-06T17:14:10.434160Z"
    }
   },
   "outputs": [
    {
     "name": "stdout",
     "output_type": "stream",
     "text": [
      "Dataframe shape: (1000000, 8)\n"
     ]
    },
    {
     "data": {
      "text/html": [
       "<div>\n",
       "<style scoped>\n",
       "    .dataframe tbody tr th:only-of-type {\n",
       "        vertical-align: middle;\n",
       "    }\n",
       "\n",
       "    .dataframe tbody tr th {\n",
       "        vertical-align: top;\n",
       "    }\n",
       "\n",
       "    .dataframe thead th {\n",
       "        text-align: right;\n",
       "    }\n",
       "</style>\n",
       "<table border=\"1\" class=\"dataframe\">\n",
       "  <thead>\n",
       "    <tr style=\"text-align: right;\">\n",
       "      <th></th>\n",
       "      <th>distance_from_home</th>\n",
       "      <th>distance_from_last_transaction</th>\n",
       "      <th>ratio_to_median_purchase_price</th>\n",
       "      <th>repeat_retailer</th>\n",
       "      <th>used_chip</th>\n",
       "      <th>used_pin_number</th>\n",
       "      <th>online_order</th>\n",
       "      <th>fraud</th>\n",
       "    </tr>\n",
       "  </thead>\n",
       "  <tbody>\n",
       "    <tr>\n",
       "      <th>0</th>\n",
       "      <td>57.877857</td>\n",
       "      <td>0.311140</td>\n",
       "      <td>1.945940</td>\n",
       "      <td>1.0</td>\n",
       "      <td>1.0</td>\n",
       "      <td>0.0</td>\n",
       "      <td>0.0</td>\n",
       "      <td>0.0</td>\n",
       "    </tr>\n",
       "    <tr>\n",
       "      <th>1</th>\n",
       "      <td>10.829943</td>\n",
       "      <td>0.175592</td>\n",
       "      <td>1.294219</td>\n",
       "      <td>1.0</td>\n",
       "      <td>0.0</td>\n",
       "      <td>0.0</td>\n",
       "      <td>0.0</td>\n",
       "      <td>0.0</td>\n",
       "    </tr>\n",
       "    <tr>\n",
       "      <th>2</th>\n",
       "      <td>5.091079</td>\n",
       "      <td>0.805153</td>\n",
       "      <td>0.427715</td>\n",
       "      <td>1.0</td>\n",
       "      <td>0.0</td>\n",
       "      <td>0.0</td>\n",
       "      <td>1.0</td>\n",
       "      <td>0.0</td>\n",
       "    </tr>\n",
       "    <tr>\n",
       "      <th>3</th>\n",
       "      <td>2.247564</td>\n",
       "      <td>5.600044</td>\n",
       "      <td>0.362663</td>\n",
       "      <td>1.0</td>\n",
       "      <td>1.0</td>\n",
       "      <td>0.0</td>\n",
       "      <td>1.0</td>\n",
       "      <td>0.0</td>\n",
       "    </tr>\n",
       "    <tr>\n",
       "      <th>4</th>\n",
       "      <td>44.190936</td>\n",
       "      <td>0.566486</td>\n",
       "      <td>2.222767</td>\n",
       "      <td>1.0</td>\n",
       "      <td>1.0</td>\n",
       "      <td>0.0</td>\n",
       "      <td>1.0</td>\n",
       "      <td>0.0</td>\n",
       "    </tr>\n",
       "    <tr>\n",
       "      <th>...</th>\n",
       "      <td>...</td>\n",
       "      <td>...</td>\n",
       "      <td>...</td>\n",
       "      <td>...</td>\n",
       "      <td>...</td>\n",
       "      <td>...</td>\n",
       "      <td>...</td>\n",
       "      <td>...</td>\n",
       "    </tr>\n",
       "    <tr>\n",
       "      <th>999995</th>\n",
       "      <td>2.207101</td>\n",
       "      <td>0.112651</td>\n",
       "      <td>1.626798</td>\n",
       "      <td>1.0</td>\n",
       "      <td>1.0</td>\n",
       "      <td>0.0</td>\n",
       "      <td>0.0</td>\n",
       "      <td>0.0</td>\n",
       "    </tr>\n",
       "    <tr>\n",
       "      <th>999996</th>\n",
       "      <td>19.872726</td>\n",
       "      <td>2.683904</td>\n",
       "      <td>2.778303</td>\n",
       "      <td>1.0</td>\n",
       "      <td>1.0</td>\n",
       "      <td>0.0</td>\n",
       "      <td>0.0</td>\n",
       "      <td>0.0</td>\n",
       "    </tr>\n",
       "    <tr>\n",
       "      <th>999997</th>\n",
       "      <td>2.914857</td>\n",
       "      <td>1.472687</td>\n",
       "      <td>0.218075</td>\n",
       "      <td>1.0</td>\n",
       "      <td>1.0</td>\n",
       "      <td>0.0</td>\n",
       "      <td>1.0</td>\n",
       "      <td>0.0</td>\n",
       "    </tr>\n",
       "    <tr>\n",
       "      <th>999998</th>\n",
       "      <td>4.258729</td>\n",
       "      <td>0.242023</td>\n",
       "      <td>0.475822</td>\n",
       "      <td>1.0</td>\n",
       "      <td>0.0</td>\n",
       "      <td>0.0</td>\n",
       "      <td>1.0</td>\n",
       "      <td>0.0</td>\n",
       "    </tr>\n",
       "    <tr>\n",
       "      <th>999999</th>\n",
       "      <td>58.108125</td>\n",
       "      <td>0.318110</td>\n",
       "      <td>0.386920</td>\n",
       "      <td>1.0</td>\n",
       "      <td>1.0</td>\n",
       "      <td>0.0</td>\n",
       "      <td>1.0</td>\n",
       "      <td>0.0</td>\n",
       "    </tr>\n",
       "  </tbody>\n",
       "</table>\n",
       "<p>1000000 rows × 8 columns</p>\n",
       "</div>"
      ],
      "text/plain": [
       "        distance_from_home  distance_from_last_transaction  \\\n",
       "0                57.877857                        0.311140   \n",
       "1                10.829943                        0.175592   \n",
       "2                 5.091079                        0.805153   \n",
       "3                 2.247564                        5.600044   \n",
       "4                44.190936                        0.566486   \n",
       "...                    ...                             ...   \n",
       "999995            2.207101                        0.112651   \n",
       "999996           19.872726                        2.683904   \n",
       "999997            2.914857                        1.472687   \n",
       "999998            4.258729                        0.242023   \n",
       "999999           58.108125                        0.318110   \n",
       "\n",
       "        ratio_to_median_purchase_price  repeat_retailer  used_chip  \\\n",
       "0                             1.945940              1.0        1.0   \n",
       "1                             1.294219              1.0        0.0   \n",
       "2                             0.427715              1.0        0.0   \n",
       "3                             0.362663              1.0        1.0   \n",
       "4                             2.222767              1.0        1.0   \n",
       "...                                ...              ...        ...   \n",
       "999995                        1.626798              1.0        1.0   \n",
       "999996                        2.778303              1.0        1.0   \n",
       "999997                        0.218075              1.0        1.0   \n",
       "999998                        0.475822              1.0        0.0   \n",
       "999999                        0.386920              1.0        1.0   \n",
       "\n",
       "        used_pin_number  online_order  fraud  \n",
       "0                   0.0           0.0    0.0  \n",
       "1                   0.0           0.0    0.0  \n",
       "2                   0.0           1.0    0.0  \n",
       "3                   0.0           1.0    0.0  \n",
       "4                   0.0           1.0    0.0  \n",
       "...                 ...           ...    ...  \n",
       "999995              0.0           0.0    0.0  \n",
       "999996              0.0           0.0    0.0  \n",
       "999997              0.0           1.0    0.0  \n",
       "999998              0.0           1.0    0.0  \n",
       "999999              0.0           1.0    0.0  \n",
       "\n",
       "[1000000 rows x 8 columns]"
      ]
     },
     "execution_count": 3,
     "metadata": {},
     "output_type": "execute_result"
    }
   ],
   "source": [
    "print(\"Dataframe shape:\", df.shape)\n",
    "df"
   ]
  },
  {
   "cell_type": "code",
   "execution_count": 4,
   "metadata": {
    "execution": {
     "iopub.execute_input": "2022-09-06T17:14:10.464384Z",
     "iopub.status.busy": "2022-09-06T17:14:10.463715Z",
     "iopub.status.idle": "2022-09-06T17:14:10.501263Z",
     "shell.execute_reply": "2022-09-06T17:14:10.499765Z",
     "shell.execute_reply.started": "2022-09-06T17:14:10.464343Z"
    }
   },
   "outputs": [
    {
     "name": "stdout",
     "output_type": "stream",
     "text": [
      "<class 'pandas.core.frame.DataFrame'>\n",
      "RangeIndex: 1000000 entries, 0 to 999999\n",
      "Data columns (total 8 columns):\n",
      " #   Column                          Non-Null Count    Dtype  \n",
      "---  ------                          --------------    -----  \n",
      " 0   distance_from_home              1000000 non-null  float64\n",
      " 1   distance_from_last_transaction  1000000 non-null  float64\n",
      " 2   ratio_to_median_purchase_price  1000000 non-null  float64\n",
      " 3   repeat_retailer                 1000000 non-null  float64\n",
      " 4   used_chip                       1000000 non-null  float64\n",
      " 5   used_pin_number                 1000000 non-null  float64\n",
      " 6   online_order                    1000000 non-null  float64\n",
      " 7   fraud                           1000000 non-null  float64\n",
      "dtypes: float64(8)\n",
      "memory usage: 61.0 MB\n"
     ]
    }
   ],
   "source": [
    "df.info()"
   ]
  },
  {
   "cell_type": "code",
   "execution_count": 5,
   "metadata": {
    "execution": {
     "iopub.execute_input": "2022-09-06T17:14:10.503607Z",
     "iopub.status.busy": "2022-09-06T17:14:10.503193Z",
     "iopub.status.idle": "2022-09-06T17:14:10.531492Z",
     "shell.execute_reply": "2022-09-06T17:14:10.530010Z",
     "shell.execute_reply.started": "2022-09-06T17:14:10.503571Z"
    }
   },
   "outputs": [
    {
     "data": {
      "text/plain": [
       "distance_from_home                0\n",
       "distance_from_last_transaction    0\n",
       "ratio_to_median_purchase_price    0\n",
       "repeat_retailer                   0\n",
       "used_chip                         0\n",
       "used_pin_number                   0\n",
       "online_order                      0\n",
       "fraud                             0\n",
       "dtype: int64"
      ]
     },
     "execution_count": 5,
     "metadata": {},
     "output_type": "execute_result"
    }
   ],
   "source": [
    "df.isna().sum()"
   ]
  },
  {
   "cell_type": "markdown",
   "metadata": {},
   "source": [
    "There are no missing values in the dataset."
   ]
  },
  {
   "cell_type": "code",
   "execution_count": 6,
   "metadata": {
    "execution": {
     "iopub.execute_input": "2022-09-06T17:14:10.535451Z",
     "iopub.status.busy": "2022-09-06T17:14:10.533261Z",
     "iopub.status.idle": "2022-09-06T17:14:10.886910Z",
     "shell.execute_reply": "2022-09-06T17:14:10.885624Z",
     "shell.execute_reply.started": "2022-09-06T17:14:10.535390Z"
    }
   },
   "outputs": [
    {
     "data": {
      "text/plain": [
       "distance_from_home                1000000\n",
       "distance_from_last_transaction    1000000\n",
       "ratio_to_median_purchase_price    1000000\n",
       "repeat_retailer                         2\n",
       "used_chip                               2\n",
       "used_pin_number                         2\n",
       "online_order                            2\n",
       "fraud                                   2\n",
       "dtype: int64"
      ]
     },
     "execution_count": 6,
     "metadata": {},
     "output_type": "execute_result"
    }
   ],
   "source": [
    "df.nunique()"
   ]
  },
  {
   "cell_type": "markdown",
   "metadata": {},
   "source": [
    "There are no duplicate values in the dataset"
   ]
  },
  {
   "cell_type": "code",
   "execution_count": 7,
   "metadata": {
    "execution": {
     "iopub.execute_input": "2022-09-06T17:14:26.374720Z",
     "iopub.status.busy": "2022-09-06T17:14:26.374281Z",
     "iopub.status.idle": "2022-09-06T17:14:26.395287Z",
     "shell.execute_reply": "2022-09-06T17:14:26.393948Z",
     "shell.execute_reply.started": "2022-09-06T17:14:26.374680Z"
    }
   },
   "outputs": [
    {
     "data": {
      "text/plain": [
       "87403"
      ]
     },
     "execution_count": 7,
     "metadata": {},
     "output_type": "execute_result"
    }
   ],
   "source": [
    "#Number of fraud transactions\n",
    "df[df[\"fraud\"] == 1].fraud.count()"
   ]
  },
  {
   "cell_type": "code",
   "execution_count": 33,
   "metadata": {
    "execution": {
     "iopub.execute_input": "2022-09-06T17:14:26.401599Z",
     "iopub.status.busy": "2022-09-06T17:14:26.401153Z",
     "iopub.status.idle": "2022-09-06T17:14:26.472659Z",
     "shell.execute_reply": "2022-09-06T17:14:26.471195Z",
     "shell.execute_reply.started": "2022-09-06T17:14:26.401559Z"
    }
   },
   "outputs": [
    {
     "name": "stdout",
     "output_type": "stream",
     "text": [
      "Number of fraud transactions: 87403\n",
      "Number of non-fraud transactions: 912597\n",
      "Fraud percentage: 8.74%\n"
     ]
    }
   ],
   "source": [
    "# Calculate the number of fraud and non-fraud transactions\n",
    "fraud_transactions = df[\"fraud\"].value_counts()\n",
    "f_count = fraud_transactions[1]\n",
    "nf_count = fraud_transactions[0]\n",
    "\n",
    "# Print the results\n",
    "print(f\"Number of fraud transactions: {f_count}\")\n",
    "print(f\"Number of non-fraud transactions: {nf_count}\")\n",
    "print(f\"Fraud percentage: {f_count / len(df) * 100:.2f}%\")"
   ]
  },
  {
   "cell_type": "code",
   "execution_count": 35,
   "metadata": {
    "execution": {
     "iopub.execute_input": "2022-09-06T17:14:26.658915Z",
     "iopub.status.busy": "2022-09-06T17:14:26.658535Z",
     "iopub.status.idle": "2022-09-06T17:14:26.772806Z",
     "shell.execute_reply": "2022-09-06T17:14:26.771355Z",
     "shell.execute_reply.started": "2022-09-06T17:14:26.658881Z"
    }
   },
   "outputs": [
    {
     "data": {
      "image/png": "[encoded data removed]",
      "text/plain": [
       "<Figure size 432x288 with 1 Axes>"
      ]
     },
     "metadata": {
      "needs_background": "light"
     },
     "output_type": "display_data"
    }
   ],
   "source": [
    "import pandas as pd\n",
    "import matplotlib.pyplot as plt\n",
    "\n",
    "# Count the number of fraud and non-fraud records\n",
    "fraud_count = len(df[df['fraud'] == 1])\n",
    "non_fraud_count = len(df[df['fraud'] == 0])\n",
    "\n",
    "# Calculate the percentages\n",
    "fraud_percentage = fraud_count / len(df) * 100\n",
    "non_fraud_percentage = non_fraud_count / len(df) * 100\n",
    "\n",
    "# Create the bar graph\n",
    "labels = ['Fraud', 'Non-Fraud']\n",
    "percentages = [fraud_percentage, non_fraud_percentage]\n",
    "\n",
    "plt.bar(labels, percentages)\n",
    "plt.title('Percentage of Fraud and Non-Fraud Records')\n",
    "plt.xlabel('Type of Record')\n",
    "plt.ylabel('Percentage')\n",
    "plt.show()\n"
   ]
  },
  {
   "cell_type": "code",
   "execution_count": 40,
   "metadata": {},
   "outputs": [
    {
     "data": {
      "image/png": "[encoded data removed]",
      "text/plain": [
       "<Figure size 432x288 with 1 Axes>"
      ]
     },
     "metadata": {},
     "output_type": "display_data"
    }
   ],
   "source": [
    "import matplotlib.pyplot as plt\n",
    "\n",
    "# Count the number of occurrences of each value in the 'fraud' variable\n",
    "fraud_counts = df['fraud'].value_counts()\n",
    "\n",
    "# Create a pie chart with the fraud counts\n",
    "plt.pie(fraud_counts, labels=fraud_counts.index, autopct='%1.1f%%')\n",
    "plt.title('Fraudulent Transactions')\n",
    "plt.axis('equal')\n",
    "plt.show()\n"
   ]
  },
  {
   "cell_type": "code",
   "execution_count": 51,
   "metadata": {
    "execution": {
     "iopub.execute_input": "2022-09-06T17:14:26.891540Z",
     "iopub.status.busy": "2022-09-06T17:14:26.891156Z",
     "iopub.status.idle": "2022-09-06T17:14:27.520638Z",
     "shell.execute_reply": "2022-09-06T17:14:27.519328Z",
     "shell.execute_reply.started": "2022-09-06T17:14:26.891504Z"
    }
   },
   "outputs": [
    {
     "data": {
      "image/png": "[encoded data removed]",
      "text/plain": [
       "<Figure size 720x720 with 4 Axes>"
      ]
     },
     "metadata": {},
     "output_type": "display_data"
    }
   ],
   "source": [
    "import pandas as pd\n",
    "import matplotlib.pyplot as plt\n",
    "\n",
    "# Set the figure size\n",
    "plt.figure(figsize=(10, 10))\n",
    "\n",
    "# Create a subplot for each variable of interest\n",
    "plt.subplot(2, 2, 1)\n",
    "df['repeat_retailer'].value_counts().plot(kind='bar', color='purple')\n",
    "plt.title('Repeat Retailer')\n",
    "\n",
    "plt.subplot(2, 2, 2)\n",
    "df['used_chip'].value_counts().plot(kind='bar', color='green')\n",
    "plt.title('Used Chip')\n",
    "\n",
    "plt.subplot(2, 2, 3)\n",
    "df['used_pin_number'].value_counts().plot(kind='bar', color='blue')\n",
    "plt.title('Used Pin Number')\n",
    "\n",
    "plt.subplot(2, 2, 4)\n",
    "df['online_order'].value_counts().plot(kind='bar', color='red')\n",
    "plt.title('Online Order')\n",
    "\n",
    "# Set the overall title of the figure\n",
    "plt.suptitle('Fraud Data EDA')\n",
    "\n",
    "# Display the figure\n",
    "plt.show()\n"
   ]
  },
  {
   "cell_type": "code",
   "execution_count": 54,
   "metadata": {
    "execution": {
     "iopub.execute_input": "2022-09-06T17:14:27.523049Z",
     "iopub.status.busy": "2022-09-06T17:14:27.522545Z",
     "iopub.status.idle": "2022-09-06T17:14:28.030933Z",
     "shell.execute_reply": "2022-09-06T17:14:28.029673Z",
     "shell.execute_reply.started": "2022-09-06T17:14:27.522999Z"
    }
   },
   "outputs": [],
   "source": [
    "import pandas as pd\n",
    "import matplotlib.pyplot as plt\n",
    "import seaborn as sns\n",
    "\n",
    "\n",
    "def plot_categorical_vars(data, cat_vars):\n",
    "    # set plot style\n",
    "    sns.set_style(\"whitegrid\")\n",
    "\n",
    "    # set up figure and axis objects\n",
    "    fig, axs = plt.subplots(len(cat_vars), 2, figsize=(10, 4 * len(cat_vars)))\n",
    "    \n",
    "    # set up colors and explode values for the pie charts\n",
    "    colors = [\"#66b3ff\", \"#ffcc99\"]\n",
    "    explode = (0, 0.1)\n",
    "\n",
    "    # loop through each categorical variable\n",
    "    for i, var in enumerate(cat_vars):\n",
    "        \n",
    "        # create pie chart\n",
    "        pie_data = data[var].value_counts()\n",
    "        axs[i, 0].pie(pie_data, labels=pie_data.index, autopct=\"%.2f%%\", colors=colors, explode=explode)\n",
    "        axs[i, 0].set_title(f\"Distribution of {var}\", fontsize=10)\n",
    "\n",
    "        # create bar plot\n",
    "        sns.countplot(x=var, data=data, ax=axs[i, 1])\n",
    "        axs[i, 1].set_title(f\"Count of {var} by Class\", fontsize=10)\n",
    "        axs[i, 1].set_xlabel(var, fontsize=16)\n",
    "        axs[i, 1].set_ylabel(\"Count\", fontsize=16)\n",
    "\n",
    "    plt.tight_layout()\n",
    "    plt.show()\n"
   ]
  },
  {
   "cell_type": "code",
   "execution_count": 55,
   "metadata": {},
   "outputs": [
    {
     "data": {
      "image/png": "[encoded data removed]",
      "text/plain": [
       "<Figure size 720x1152 with 8 Axes>"
      ]
     },
     "metadata": {},
     "output_type": "display_data"
    }
   ],
   "source": [
    "cat_vars = [\"repeat_retailer\", \"used_chip\", \"used_pin_number\", \"online_order\"]\n",
    "plot_categorical_vars(fraud_df, cat_vars)\n"
   ]
  },
  {
   "cell_type": "markdown",
   "metadata": {},
   "source": [
    "# **Oversampling Technique and Model**"
   ]
  },
  {
   "cell_type": "markdown",
   "metadata": {},
   "source": [
    "## **Splitting the features and target**"
   ]
  },
  {
   "cell_type": "code",
   "execution_count": 56,
   "metadata": {
    "execution": {
     "iopub.execute_input": "2022-09-06T17:16:56.862301Z",
     "iopub.status.busy": "2022-09-06T17:16:56.861702Z",
     "iopub.status.idle": "2022-09-06T17:16:56.923105Z",
     "shell.execute_reply": "2022-09-06T17:16:56.921463Z",
     "shell.execute_reply.started": "2022-09-06T17:16:56.862244Z"
    }
   },
   "outputs": [],
   "source": [
    "x = df.drop(\"fraud\", axis = 1).values\n",
    "y = df[\"fraud\"].values"
   ]
  },
  {
   "cell_type": "markdown",
   "metadata": {},
   "source": [
    "## **Oversampling**"
   ]
  },
  {
   "cell_type": "code",
   "execution_count": 57,
   "metadata": {
    "execution": {
     "iopub.execute_input": "2022-09-06T17:16:56.925327Z",
     "iopub.status.busy": "2022-09-06T17:16:56.924847Z",
     "iopub.status.idle": "2022-09-06T17:16:59.014364Z",
     "shell.execute_reply": "2022-09-06T17:16:59.012883Z",
     "shell.execute_reply.started": "2022-09-06T17:16:56.925284Z"
    }
   },
   "outputs": [],
   "source": [
    "from imblearn.over_sampling import SMOTE\n",
    "smote = SMOTE(random_state=39)\n",
    "non_fraud_over, fraud_over = smote.fit_resample(x, y)"
   ]
  },
  {
   "cell_type": "code",
   "execution_count": 58,
   "metadata": {
    "execution": {
     "iopub.execute_input": "2022-09-06T17:16:59.016858Z",
     "iopub.status.busy": "2022-09-06T17:16:59.016070Z",
     "iopub.status.idle": "2022-09-06T17:16:59.039402Z",
     "shell.execute_reply": "2022-09-06T17:16:59.038164Z",
     "shell.execute_reply.started": "2022-09-06T17:16:59.016813Z"
    }
   },
   "outputs": [
    {
     "data": {
      "text/html": [
       "<div>\n",
       "<style scoped>\n",
       "    .dataframe tbody tr th:only-of-type {\n",
       "        vertical-align: middle;\n",
       "    }\n",
       "\n",
       "    .dataframe tbody tr th {\n",
       "        vertical-align: top;\n",
       "    }\n",
       "\n",
       "    .dataframe thead th {\n",
       "        text-align: right;\n",
       "    }\n",
       "</style>\n",
       "<table border=\"1\" class=\"dataframe\">\n",
       "  <thead>\n",
       "    <tr style=\"text-align: right;\">\n",
       "      <th></th>\n",
       "      <th>distance_from_home</th>\n",
       "      <th>distance_from_last_transaction</th>\n",
       "      <th>ratio_to_median_purchase_price</th>\n",
       "      <th>repeat_retailer</th>\n",
       "      <th>used_chip</th>\n",
       "      <th>used_pin_number</th>\n",
       "      <th>online_order</th>\n",
       "    </tr>\n",
       "  </thead>\n",
       "  <tbody>\n",
       "    <tr>\n",
       "      <th>0</th>\n",
       "      <td>57.877857</td>\n",
       "      <td>0.311140</td>\n",
       "      <td>1.945940</td>\n",
       "      <td>1.0</td>\n",
       "      <td>1.000000</td>\n",
       "      <td>0.0</td>\n",
       "      <td>0.0</td>\n",
       "    </tr>\n",
       "    <tr>\n",
       "      <th>1</th>\n",
       "      <td>10.829943</td>\n",
       "      <td>0.175592</td>\n",
       "      <td>1.294219</td>\n",
       "      <td>1.0</td>\n",
       "      <td>0.000000</td>\n",
       "      <td>0.0</td>\n",
       "      <td>0.0</td>\n",
       "    </tr>\n",
       "    <tr>\n",
       "      <th>2</th>\n",
       "      <td>5.091079</td>\n",
       "      <td>0.805153</td>\n",
       "      <td>0.427715</td>\n",
       "      <td>1.0</td>\n",
       "      <td>0.000000</td>\n",
       "      <td>0.0</td>\n",
       "      <td>1.0</td>\n",
       "    </tr>\n",
       "    <tr>\n",
       "      <th>3</th>\n",
       "      <td>2.247564</td>\n",
       "      <td>5.600044</td>\n",
       "      <td>0.362663</td>\n",
       "      <td>1.0</td>\n",
       "      <td>1.000000</td>\n",
       "      <td>0.0</td>\n",
       "      <td>1.0</td>\n",
       "    </tr>\n",
       "    <tr>\n",
       "      <th>4</th>\n",
       "      <td>44.190936</td>\n",
       "      <td>0.566486</td>\n",
       "      <td>2.222767</td>\n",
       "      <td>1.0</td>\n",
       "      <td>1.000000</td>\n",
       "      <td>0.0</td>\n",
       "      <td>1.0</td>\n",
       "    </tr>\n",
       "    <tr>\n",
       "      <th>...</th>\n",
       "      <td>...</td>\n",
       "      <td>...</td>\n",
       "      <td>...</td>\n",
       "      <td>...</td>\n",
       "      <td>...</td>\n",
       "      <td>...</td>\n",
       "      <td>...</td>\n",
       "    </tr>\n",
       "    <tr>\n",
       "      <th>1825189</th>\n",
       "      <td>0.865098</td>\n",
       "      <td>1.341068</td>\n",
       "      <td>4.173964</td>\n",
       "      <td>0.0</td>\n",
       "      <td>1.000000</td>\n",
       "      <td>0.0</td>\n",
       "      <td>1.0</td>\n",
       "    </tr>\n",
       "    <tr>\n",
       "      <th>1825190</th>\n",
       "      <td>4.803252</td>\n",
       "      <td>0.744443</td>\n",
       "      <td>6.650998</td>\n",
       "      <td>1.0</td>\n",
       "      <td>1.000000</td>\n",
       "      <td>0.0</td>\n",
       "      <td>1.0</td>\n",
       "    </tr>\n",
       "    <tr>\n",
       "      <th>1825191</th>\n",
       "      <td>12.536102</td>\n",
       "      <td>119.006991</td>\n",
       "      <td>4.094842</td>\n",
       "      <td>1.0</td>\n",
       "      <td>0.835731</td>\n",
       "      <td>0.0</td>\n",
       "      <td>1.0</td>\n",
       "    </tr>\n",
       "    <tr>\n",
       "      <th>1825192</th>\n",
       "      <td>389.245617</td>\n",
       "      <td>3.480952</td>\n",
       "      <td>0.922567</td>\n",
       "      <td>1.0</td>\n",
       "      <td>0.000000</td>\n",
       "      <td>0.0</td>\n",
       "      <td>1.0</td>\n",
       "    </tr>\n",
       "    <tr>\n",
       "      <th>1825193</th>\n",
       "      <td>23.440339</td>\n",
       "      <td>0.528913</td>\n",
       "      <td>5.569978</td>\n",
       "      <td>1.0</td>\n",
       "      <td>1.000000</td>\n",
       "      <td>0.0</td>\n",
       "      <td>1.0</td>\n",
       "    </tr>\n",
       "  </tbody>\n",
       "</table>\n",
       "<p>1825194 rows × 7 columns</p>\n",
       "</div>"
      ],
      "text/plain": [
       "         distance_from_home  distance_from_last_transaction  \\\n",
       "0                 57.877857                        0.311140   \n",
       "1                 10.829943                        0.175592   \n",
       "2                  5.091079                        0.805153   \n",
       "3                  2.247564                        5.600044   \n",
       "4                 44.190936                        0.566486   \n",
       "...                     ...                             ...   \n",
       "1825189            0.865098                        1.341068   \n",
       "1825190            4.803252                        0.744443   \n",
       "1825191           12.536102                      119.006991   \n",
       "1825192          389.245617                        3.480952   \n",
       "1825193           23.440339                        0.528913   \n",
       "\n",
       "         ratio_to_median_purchase_price  repeat_retailer  used_chip  \\\n",
       "0                              1.945940              1.0   1.000000   \n",
       "1                              1.294219              1.0   0.000000   \n",
       "2                              0.427715              1.0   0.000000   \n",
       "3                              0.362663              1.0   1.000000   \n",
       "4                              2.222767              1.0   1.000000   \n",
       "...                                 ...              ...        ...   \n",
       "1825189                        4.173964              0.0   1.000000   \n",
       "1825190                        6.650998              1.0   1.000000   \n",
       "1825191                        4.094842              1.0   0.835731   \n",
       "1825192                        0.922567              1.0   0.000000   \n",
       "1825193                        5.569978              1.0   1.000000   \n",
       "\n",
       "         used_pin_number  online_order  \n",
       "0                    0.0           0.0  \n",
       "1                    0.0           0.0  \n",
       "2                    0.0           1.0  \n",
       "3                    0.0           1.0  \n",
       "4                    0.0           1.0  \n",
       "...                  ...           ...  \n",
       "1825189              0.0           1.0  \n",
       "1825190              0.0           1.0  \n",
       "1825191              0.0           1.0  \n",
       "1825192              0.0           1.0  \n",
       "1825193              0.0           1.0  \n",
       "\n",
       "[1825194 rows x 7 columns]"
      ]
     },
     "execution_count": 58,
     "metadata": {},
     "output_type": "execute_result"
    }
   ],
   "source": [
    "non_fraud_over_df = pd.DataFrame(non_fraud_over, columns=[\"distance_from_home\", \"distance_from_last_transaction\",\n",
    "       \"ratio_to_median_purchase_price\", \"repeat_retailer\", \"used_chip\",\n",
    "       \"used_pin_number\", \"online_order\"])\n",
    "non_fraud_over_df"
   ]
  },
  {
   "cell_type": "code",
   "execution_count": 59,
   "metadata": {
    "execution": {
     "iopub.execute_input": "2022-09-06T17:16:59.041282Z",
     "iopub.status.busy": "2022-09-06T17:16:59.040873Z",
     "iopub.status.idle": "2022-09-06T17:16:59.054273Z",
     "shell.execute_reply": "2022-09-06T17:16:59.052786Z",
     "shell.execute_reply.started": "2022-09-06T17:16:59.041244Z"
    }
   },
   "outputs": [],
   "source": [
    "non_fraud_over_df[\"fraud\"] = fraud_over\n",
    "osdf = non_fraud_over_df"
   ]
  },
  {
   "cell_type": "code",
   "execution_count": 60,
   "metadata": {
    "execution": {
     "iopub.execute_input": "2022-09-06T17:16:59.056815Z",
     "iopub.status.busy": "2022-09-06T17:16:59.056269Z",
     "iopub.status.idle": "2022-09-06T17:16:59.891413Z",
     "shell.execute_reply": "2022-09-06T17:16:59.890129Z",
     "shell.execute_reply.started": "2022-09-06T17:16:59.056757Z"
    }
   },
   "outputs": [
    {
     "name": "stdout",
     "output_type": "stream",
     "text": [
      "osdf shape: (1825194, 8)\n",
      "<class 'pandas.core.frame.DataFrame'>\n",
      "RangeIndex: 1825194 entries, 0 to 1825193\n",
      "Data columns (total 8 columns):\n",
      " #   Column                          Dtype  \n",
      "---  ------                          -----  \n",
      " 0   distance_from_home              float64\n",
      " 1   distance_from_last_transaction  float64\n",
      " 2   ratio_to_median_purchase_price  float64\n",
      " 3   repeat_retailer                 float64\n",
      " 4   used_chip                       float64\n",
      " 5   used_pin_number                 float64\n",
      " 6   online_order                    float64\n",
      " 7   fraud                           float64\n",
      "dtypes: float64(8)\n",
      "memory usage: 111.4 MB\n",
      "None\n"
     ]
    },
    {
     "data": {
      "text/html": [
       "<div>\n",
       "<style scoped>\n",
       "    .dataframe tbody tr th:only-of-type {\n",
       "        vertical-align: middle;\n",
       "    }\n",
       "\n",
       "    .dataframe tbody tr th {\n",
       "        vertical-align: top;\n",
       "    }\n",
       "\n",
       "    .dataframe thead th {\n",
       "        text-align: right;\n",
       "    }\n",
       "</style>\n",
       "<table border=\"1\" class=\"dataframe\">\n",
       "  <thead>\n",
       "    <tr style=\"text-align: right;\">\n",
       "      <th></th>\n",
       "      <th>distance_from_home</th>\n",
       "      <th>distance_from_last_transaction</th>\n",
       "      <th>ratio_to_median_purchase_price</th>\n",
       "      <th>repeat_retailer</th>\n",
       "      <th>used_chip</th>\n",
       "      <th>used_pin_number</th>\n",
       "      <th>online_order</th>\n",
       "      <th>fraud</th>\n",
       "    </tr>\n",
       "  </thead>\n",
       "  <tbody>\n",
       "    <tr>\n",
       "      <th>count</th>\n",
       "      <td>1.825194e+06</td>\n",
       "      <td>1.825194e+06</td>\n",
       "      <td>1.825194e+06</td>\n",
       "      <td>1.825194e+06</td>\n",
       "      <td>1.825194e+06</td>\n",
       "      <td>1.825194e+06</td>\n",
       "      <td>1.825194e+06</td>\n",
       "      <td>1825194.0</td>\n",
       "    </tr>\n",
       "    <tr>\n",
       "      <th>mean</th>\n",
       "      <td>4.442516e+01</td>\n",
       "      <td>8.458492e+00</td>\n",
       "      <td>3.694127e+00</td>\n",
       "      <td>8.809996e-01</td>\n",
       "      <td>3.055032e-01</td>\n",
       "      <td>5.625144e-02</td>\n",
       "      <td>7.852103e-01</td>\n",
       "      <td>0.5</td>\n",
       "    </tr>\n",
       "    <tr>\n",
       "      <th>std</th>\n",
       "      <td>1.018351e+02</td>\n",
       "      <td>3.750252e+01</td>\n",
       "      <td>4.693421e+00</td>\n",
       "      <td>3.232951e-01</td>\n",
       "      <td>4.555445e-01</td>\n",
       "      <td>2.296677e-01</td>\n",
       "      <td>4.080603e-01</td>\n",
       "      <td>0.5</td>\n",
       "    </tr>\n",
       "    <tr>\n",
       "      <th>min</th>\n",
       "      <td>4.874385e-03</td>\n",
       "      <td>1.182816e-04</td>\n",
       "      <td>4.399240e-03</td>\n",
       "      <td>0.000000e+00</td>\n",
       "      <td>0.000000e+00</td>\n",
       "      <td>0.000000e+00</td>\n",
       "      <td>0.000000e+00</td>\n",
       "      <td>0.0</td>\n",
       "    </tr>\n",
       "    <tr>\n",
       "      <th>25%</th>\n",
       "      <td>4.142911e+00</td>\n",
       "      <td>3.112290e-01</td>\n",
       "      <td>6.944836e-01</td>\n",
       "      <td>1.000000e+00</td>\n",
       "      <td>0.000000e+00</td>\n",
       "      <td>0.000000e+00</td>\n",
       "      <td>1.000000e+00</td>\n",
       "      <td>0.0</td>\n",
       "    </tr>\n",
       "    <tr>\n",
       "      <th>50%</th>\n",
       "      <td>1.173429e+01</td>\n",
       "      <td>1.050549e+00</td>\n",
       "      <td>1.993814e+00</td>\n",
       "      <td>1.000000e+00</td>\n",
       "      <td>0.000000e+00</td>\n",
       "      <td>0.000000e+00</td>\n",
       "      <td>1.000000e+00</td>\n",
       "      <td>0.5</td>\n",
       "    </tr>\n",
       "    <tr>\n",
       "      <th>75%</th>\n",
       "      <td>3.774807e+01</td>\n",
       "      <td>3.800466e+00</td>\n",
       "      <td>5.212519e+00</td>\n",
       "      <td>1.000000e+00</td>\n",
       "      <td>1.000000e+00</td>\n",
       "      <td>0.000000e+00</td>\n",
       "      <td>1.000000e+00</td>\n",
       "      <td>1.0</td>\n",
       "    </tr>\n",
       "    <tr>\n",
       "      <th>max</th>\n",
       "      <td>1.063272e+04</td>\n",
       "      <td>1.185110e+04</td>\n",
       "      <td>2.678029e+02</td>\n",
       "      <td>1.000000e+00</td>\n",
       "      <td>1.000000e+00</td>\n",
       "      <td>1.000000e+00</td>\n",
       "      <td>1.000000e+00</td>\n",
       "      <td>1.0</td>\n",
       "    </tr>\n",
       "  </tbody>\n",
       "</table>\n",
       "</div>"
      ],
      "text/plain": [
       "       distance_from_home  distance_from_last_transaction  \\\n",
       "count        1.825194e+06                    1.825194e+06   \n",
       "mean         4.442516e+01                    8.458492e+00   \n",
       "std          1.018351e+02                    3.750252e+01   \n",
       "min          4.874385e-03                    1.182816e-04   \n",
       "25%          4.142911e+00                    3.112290e-01   \n",
       "50%          1.173429e+01                    1.050549e+00   \n",
       "75%          3.774807e+01                    3.800466e+00   \n",
       "max          1.063272e+04                    1.185110e+04   \n",
       "\n",
       "       ratio_to_median_purchase_price  repeat_retailer     used_chip  \\\n",
       "count                    1.825194e+06     1.825194e+06  1.825194e+06   \n",
       "mean                     3.694127e+00     8.809996e-01  3.055032e-01   \n",
       "std                      4.693421e+00     3.232951e-01  4.555445e-01   \n",
       "min                      4.399240e-03     0.000000e+00  0.000000e+00   \n",
       "25%                      6.944836e-01     1.000000e+00  0.000000e+00   \n",
       "50%                      1.993814e+00     1.000000e+00  0.000000e+00   \n",
       "75%                      5.212519e+00     1.000000e+00  1.000000e+00   \n",
       "max                      2.678029e+02     1.000000e+00  1.000000e+00   \n",
       "\n",
       "       used_pin_number  online_order      fraud  \n",
       "count     1.825194e+06  1.825194e+06  1825194.0  \n",
       "mean      5.625144e-02  7.852103e-01        0.5  \n",
       "std       2.296677e-01  4.080603e-01        0.5  \n",
       "min       0.000000e+00  0.000000e+00        0.0  \n",
       "25%       0.000000e+00  1.000000e+00        0.0  \n",
       "50%       0.000000e+00  1.000000e+00        0.5  \n",
       "75%       0.000000e+00  1.000000e+00        1.0  \n",
       "max       1.000000e+00  1.000000e+00        1.0  "
      ]
     },
     "execution_count": 60,
     "metadata": {},
     "output_type": "execute_result"
    }
   ],
   "source": [
    "print(\"osdf shape:\", osdf.shape)\n",
    "print(osdf.info())\n",
    "osdf.describe()"
   ]
  },
  {
   "cell_type": "markdown",
   "metadata": {},
   "source": [
    "## **Correlation**"
   ]
  },
  {
   "cell_type": "code",
   "execution_count": 61,
   "metadata": {
    "execution": {
     "iopub.execute_input": "2022-09-06T17:16:59.893615Z",
     "iopub.status.busy": "2022-09-06T17:16:59.893232Z",
     "iopub.status.idle": "2022-09-06T17:17:00.336235Z",
     "shell.execute_reply": "2022-09-06T17:17:00.334911Z",
     "shell.execute_reply.started": "2022-09-06T17:16:59.893581Z"
    }
   },
   "outputs": [
    {
     "data": {
      "text/html": [
       "<div>\n",
       "<style scoped>\n",
       "    .dataframe tbody tr th:only-of-type {\n",
       "        vertical-align: middle;\n",
       "    }\n",
       "\n",
       "    .dataframe tbody tr th {\n",
       "        vertical-align: top;\n",
       "    }\n",
       "\n",
       "    .dataframe thead th {\n",
       "        text-align: right;\n",
       "    }\n",
       "</style>\n",
       "<table border=\"1\" class=\"dataframe\">\n",
       "  <thead>\n",
       "    <tr style=\"text-align: right;\">\n",
       "      <th></th>\n",
       "      <th>distance_from_home</th>\n",
       "      <th>distance_from_last_transaction</th>\n",
       "      <th>ratio_to_median_purchase_price</th>\n",
       "      <th>repeat_retailer</th>\n",
       "      <th>used_chip</th>\n",
       "      <th>used_pin_number</th>\n",
       "      <th>online_order</th>\n",
       "      <th>fraud</th>\n",
       "    </tr>\n",
       "  </thead>\n",
       "  <tbody>\n",
       "    <tr>\n",
       "      <th>distance_from_home</th>\n",
       "      <td>1.000000</td>\n",
       "      <td>-0.017345</td>\n",
       "      <td>-0.083492</td>\n",
       "      <td>0.156579</td>\n",
       "      <td>-0.107274</td>\n",
       "      <td>-0.037222</td>\n",
       "      <td>0.060905</td>\n",
       "      <td>0.212031</td>\n",
       "    </tr>\n",
       "    <tr>\n",
       "      <th>distance_from_last_transaction</th>\n",
       "      <td>-0.017345</td>\n",
       "      <td>1.000000</td>\n",
       "      <td>-0.042851</td>\n",
       "      <td>-0.014638</td>\n",
       "      <td>-0.037251</td>\n",
       "      <td>-0.018364</td>\n",
       "      <td>0.024436</td>\n",
       "      <td>0.110849</td>\n",
       "    </tr>\n",
       "    <tr>\n",
       "      <th>ratio_to_median_purchase_price</th>\n",
       "      <td>-0.083492</td>\n",
       "      <td>-0.042851</td>\n",
       "      <td>1.000000</td>\n",
       "      <td>-0.040560</td>\n",
       "      <td>0.029782</td>\n",
       "      <td>-0.091203</td>\n",
       "      <td>0.143558</td>\n",
       "      <td>0.483759</td>\n",
       "    </tr>\n",
       "    <tr>\n",
       "      <th>repeat_retailer</th>\n",
       "      <td>0.156579</td>\n",
       "      <td>-0.014638</td>\n",
       "      <td>-0.040560</td>\n",
       "      <td>1.000000</td>\n",
       "      <td>-0.005939</td>\n",
       "      <td>0.001024</td>\n",
       "      <td>0.074406</td>\n",
       "      <td>-0.002079</td>\n",
       "    </tr>\n",
       "    <tr>\n",
       "      <th>used_chip</th>\n",
       "      <td>-0.107274</td>\n",
       "      <td>-0.037251</td>\n",
       "      <td>0.029782</td>\n",
       "      <td>-0.005939</td>\n",
       "      <td>1.000000</td>\n",
       "      <td>0.020375</td>\n",
       "      <td>-0.027219</td>\n",
       "      <td>-0.118317</td>\n",
       "    </tr>\n",
       "    <tr>\n",
       "      <th>used_pin_number</th>\n",
       "      <td>-0.037222</td>\n",
       "      <td>-0.018364</td>\n",
       "      <td>-0.091203</td>\n",
       "      <td>0.001024</td>\n",
       "      <td>0.020375</td>\n",
       "      <td>1.000000</td>\n",
       "      <td>-0.077735</td>\n",
       "      <td>-0.233786</td>\n",
       "    </tr>\n",
       "    <tr>\n",
       "      <th>online_order</th>\n",
       "      <td>0.060905</td>\n",
       "      <td>0.024436</td>\n",
       "      <td>0.143558</td>\n",
       "      <td>0.074406</td>\n",
       "      <td>-0.027219</td>\n",
       "      <td>-0.077735</td>\n",
       "      <td>1.000000</td>\n",
       "      <td>0.399414</td>\n",
       "    </tr>\n",
       "    <tr>\n",
       "      <th>fraud</th>\n",
       "      <td>0.212031</td>\n",
       "      <td>0.110849</td>\n",
       "      <td>0.483759</td>\n",
       "      <td>-0.002079</td>\n",
       "      <td>-0.118317</td>\n",
       "      <td>-0.233786</td>\n",
       "      <td>0.399414</td>\n",
       "      <td>1.000000</td>\n",
       "    </tr>\n",
       "  </tbody>\n",
       "</table>\n",
       "</div>"
      ],
      "text/plain": [
       "                                distance_from_home  \\\n",
       "distance_from_home                        1.000000   \n",
       "distance_from_last_transaction           -0.017345   \n",
       "ratio_to_median_purchase_price           -0.083492   \n",
       "repeat_retailer                           0.156579   \n",
       "used_chip                                -0.107274   \n",
       "used_pin_number                          -0.037222   \n",
       "online_order                              0.060905   \n",
       "fraud                                     0.212031   \n",
       "\n",
       "                                distance_from_last_transaction  \\\n",
       "distance_from_home                                   -0.017345   \n",
       "distance_from_last_transaction                        1.000000   \n",
       "ratio_to_median_purchase_price                       -0.042851   \n",
       "repeat_retailer                                      -0.014638   \n",
       "used_chip                                            -0.037251   \n",
       "used_pin_number                                      -0.018364   \n",
       "online_order                                          0.024436   \n",
       "fraud                                                 0.110849   \n",
       "\n",
       "                                ratio_to_median_purchase_price  \\\n",
       "distance_from_home                                   -0.083492   \n",
       "distance_from_last_transaction                       -0.042851   \n",
       "ratio_to_median_purchase_price                        1.000000   \n",
       "repeat_retailer                                      -0.040560   \n",
       "used_chip                                             0.029782   \n",
       "used_pin_number                                      -0.091203   \n",
       "online_order                                          0.143558   \n",
       "fraud                                                 0.483759   \n",
       "\n",
       "                                repeat_retailer  used_chip  used_pin_number  \\\n",
       "distance_from_home                     0.156579  -0.107274        -0.037222   \n",
       "distance_from_last_transaction        -0.014638  -0.037251        -0.018364   \n",
       "ratio_to_median_purchase_price        -0.040560   0.029782        -0.091203   \n",
       "repeat_retailer                        1.000000  -0.005939         0.001024   \n",
       "used_chip                             -0.005939   1.000000         0.020375   \n",
       "used_pin_number                        0.001024   0.020375         1.000000   \n",
       "online_order                           0.074406  -0.027219        -0.077735   \n",
       "fraud                                 -0.002079  -0.118317        -0.233786   \n",
       "\n",
       "                                online_order     fraud  \n",
       "distance_from_home                  0.060905  0.212031  \n",
       "distance_from_last_transaction      0.024436  0.110849  \n",
       "ratio_to_median_purchase_price      0.143558  0.483759  \n",
       "repeat_retailer                     0.074406 -0.002079  \n",
       "used_chip                          -0.027219 -0.118317  \n",
       "used_pin_number                    -0.077735 -0.233786  \n",
       "online_order                        1.000000  0.399414  \n",
       "fraud                               0.399414  1.000000  "
      ]
     },
     "execution_count": 61,
     "metadata": {},
     "output_type": "execute_result"
    }
   ],
   "source": [
    "osdf.corr()"
   ]
  },
  {
   "cell_type": "code",
   "execution_count": 62,
   "metadata": {
    "execution": {
     "iopub.execute_input": "2022-09-06T17:35:38.603114Z",
     "iopub.status.busy": "2022-09-06T17:35:38.602077Z",
     "iopub.status.idle": "2022-09-06T17:35:39.911542Z",
     "shell.execute_reply": "2022-09-06T17:35:39.910303Z",
     "shell.execute_reply.started": "2022-09-06T17:35:38.603019Z"
    }
   },
   "outputs": [
    {
     "data": {
      "image/png": "[encoded data removed]",
      "text/plain": [
       "<Figure size 432x288 with 2 Axes>"
      ]
     },
     "metadata": {},
     "output_type": "display_data"
    }
   ],
   "source": [
    "sns.heatmap(osdf.corr().round(3), annot=True, vmin=-1, vmax=1, cmap=\"coolwarm\")\n",
    "sns.set(rc={\"figure.figsize\":(10,10)})\n",
    "plt.show()"
   ]
  },
  {
   "cell_type": "markdown",
   "metadata": {},
   "source": [
    "## **Analyzing the Dataset**"
   ]
  },
  {
   "cell_type": "markdown",
   "metadata": {},
   "source": [
    "### **Splitting the dataset into train and test sets**"
   ]
  },
  {
   "cell_type": "code",
   "execution_count": 63,
   "metadata": {
    "execution": {
     "iopub.execute_input": "2022-09-06T17:17:01.391485Z",
     "iopub.status.busy": "2022-09-06T17:17:01.391078Z",
     "iopub.status.idle": "2022-09-06T17:17:01.855997Z",
     "shell.execute_reply": "2022-09-06T17:17:01.854889Z",
     "shell.execute_reply.started": "2022-09-06T17:17:01.391449Z"
    }
   },
   "outputs": [],
   "source": [
    "from sklearn.model_selection import train_test_split\n",
    "\n",
    "feature_columns = [\"distance_from_home\", \"distance_from_last_transaction\",\n",
    "\"ratio_to_median_purchase_price\", \"repeat_retailer\", \"used_chip\", \"used_pin_number\", \"online_order\"]\n",
    "\n",
    "X_smote = osdf[feature_columns]\n",
    "y_smote = osdf.fraud\n",
    "\n",
    "X_train_smote, X_test_smote, y_train_smote, y_test_smote = train_test_split(X_smote, y_smote, test_size=0.2, random_state=39)"
   ]
  },
  {
   "cell_type": "markdown",
   "metadata": {},
   "source": [
    "### **Logistic Regression**"
   ]
  },
  {
   "cell_type": "code",
   "execution_count": 64,
   "metadata": {
    "execution": {
     "iopub.execute_input": "2022-09-06T17:17:01.858218Z",
     "iopub.status.busy": "2022-09-06T17:17:01.857568Z",
     "iopub.status.idle": "2022-09-06T17:17:22.394938Z",
     "shell.execute_reply": "2022-09-06T17:17:22.393049Z",
     "shell.execute_reply.started": "2022-09-06T17:17:01.858177Z"
    }
   },
   "outputs": [
    {
     "name": "stdout",
     "output_type": "stream",
     "text": [
      "Accuracy of logistic regression classifier on test set: 0.94168\n",
      "              precision    recall  f1-score   support\n",
      "\n",
      "         0.0   0.948979  0.933654  0.941254    182679\n",
      "         1.0   0.934596  0.949715  0.942095    182360\n",
      "\n",
      "    accuracy                       0.941677    365039\n",
      "   macro avg   0.941787  0.941684  0.941674    365039\n",
      "weighted avg   0.941794  0.941677  0.941674    365039\n",
      "\n"
     ]
    }
   ],
   "source": [
    "from sklearn.linear_model import LogisticRegression\n",
    "from sklearn import metrics\n",
    "logreg = LogisticRegression(max_iter=200)\n",
    "logreg.fit(X_train_smote, y_train_smote)\n",
    "\n",
    "y_pred_logreg_smote = logreg.predict(X_test_smote)\n",
    "print(\"Accuracy of logistic regression classifier on test set: {:.5f}\".format(logreg.score(X_test_smote, y_test_smote)))\n",
    "\n",
    "\n",
    "from sklearn.metrics import classification_report\n",
    "print(classification_report(y_test_smote, y_pred_logreg_smote, digits=6))\n",
    "\n"
   ]
  },
  {
   "cell_type": "markdown",
   "metadata": {},
   "source": [
    "### **Random Forest Algorithm**"
   ]
  },
  {
   "cell_type": "code",
   "execution_count": 65,
   "metadata": {},
   "outputs": [
    {
     "name": "stdout",
     "output_type": "stream",
     "text": [
      "Accuracy: 0.9999917817000376\n",
      "              precision    recall  f1-score   support\n",
      "\n",
      "         0.0   0.999984  1.000000  0.999992    182679\n",
      "         1.0   1.000000  0.999984  0.999992    182360\n",
      "\n",
      "    accuracy                       0.999992    365039\n",
      "   macro avg   0.999992  0.999992  0.999992    365039\n",
      "weighted avg   0.999992  0.999992  0.999992    365039\n",
      "\n"
     ]
    }
   ],
   "source": [
    "from sklearn.ensemble import RandomForestClassifier\n",
    "\n",
    "clf = RandomForestClassifier(n_estimators=100)\n",
    "clf.fit(X_train_smote,y_train_smote)\n",
    "\n",
    "y_pred_rf = clf.predict(X_test_smote)\n",
    "\n",
    "print(\"Accuracy:\", metrics.accuracy_score(y_test_smote, y_pred_rf))\n",
    "\n",
    "\n",
    "print(classification_report(y_test_smote, y_pred_rf, digits=6))"
   ]
  },
  {
   "cell_type": "code",
   "execution_count": null,
   "metadata": {},
   "outputs": [],
   "source": []
  }
 ],
 "metadata": {
  "kernelspec": {
   "display_name": "Python 3",
   "language": "python",
   "name": "python3"
  },
  "language_info": {
   "codemirror_mode": {
    "name": "ipython",
    "version": 3
   },
   "file_extension": ".py",
   "mimetype": "text/x-python",
   "name": "python",
   "nbconvert_exporter": "python",
   "pygments_lexer": "ipython3",
   "version": "3.7.4"
  }
 },
 "nbformat": 4,
 "nbformat_minor": 4
}
